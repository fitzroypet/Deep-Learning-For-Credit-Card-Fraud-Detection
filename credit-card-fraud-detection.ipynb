{
 "cells": [
  {
   "cell_type": "markdown",
   "metadata": {
    "_cell_guid": "6dc126be-ad08-4674-9690-5e29aca68f5e",
    "_uuid": "0af2d32075a504016a1a0e3ee46606a9a51c4a2e"
   },
   "source": [
    "# Credit Card Fraud Detection using Scikit Learn and Tensorflow #\n",
    "*Fitzroy Petgrave*"
   ]
  },
  {
   "cell_type": "markdown",
   "metadata": {},
   "source": [
    "## INTRODUCTION\n",
    "* Project Aim\n",
    "* What is Scikit-Learn Library?\n",
    "* What is Tensorflow Library?"
   ]
  },
  {
   "cell_type": "markdown",
   "metadata": {
    "_cell_guid": "97b22acc-ada6-47e1-8de7-dd4cf67df1b1",
    "_uuid": "0a53362ee05610623bdf1b09925e2a0dfc98c0b7"
   },
   "source": [
    "### Project Aim\n",
    "\n",
    "The purpose of this notebook is to design a software that can detect credit card fraud using machine learning to classify credit card transactions as fraudulent of not. \n",
    "To detect fraud our models should be able to read input details of a customer's transaction and then classify the transaction as either fraudulent or not fraudulent, making it a Binary Classification problem (only two possible outcomes).\n",
    "This binary classification problem is solved by training a machine learning model by exposing it to a dataset containing credit card transactions collected over a period. The dataset amongst other variables (columns) contains one column with a class label for each instance which is either 0 for non-fraudulent, or 1 for fraudulent.  Model performance is then evaluated by exposing the trained model to detect fraud on new transactions (data that had been excluded during the model training).\n",
    "In this experiment, python language was used to code the binary classification models which are Logistic Regression from Scikit-Learn, and Artificial Neural Networks from Tensorflow library. They are then compared to get the best prediction accuracy while avoiding errors such as overfitting and underfitting. \n",
    "\n",
    "### What is Scikit-Learn Library?\n",
    "Scikit-learn is a free software machine learning library for the Python programming language that features various classification, regression, and clustering algorithms. This project will make use of a classification model in this library that predicts binary output target - fraud or not fraud, which is Logistic Regression. \n",
    "\n",
    "### What is Tensorflow Library?\n",
    "TensorFlow is also a free and open-source software library but used for both machine learning and artificial intelligence. It can be used across a range of tasks but has a particular focus on training and inference of deep neural networks. This project will use Keras as an interface to Tensoflow. \n",
    "\n",
    "Keras is a useful library for this problem because of its efficient numerical computation capability which allows you to define and train neural network models in just a few lines of code.\n",
    "\n",
    "But before training any model, it is important to have an understanding of the dataset, so we do some data exploration below.\n"
   ]
  },
  {
   "cell_type": "markdown",
   "metadata": {},
   "source": [
    "## DATA EXPLORATION\n",
    "* Create dataframe and view table\n",
    "* Null values and data type\n",
    "* Central tendencies"
   ]
  },
  {
   "cell_type": "markdown",
   "metadata": {},
   "source": [
    "### Create dataframe and view table"
   ]
  },
  {
   "cell_type": "code",
   "execution_count": 1,
   "metadata": {
    "_cell_guid": "29482ddf-c69b-4f11-a29c-f29e29b68c06",
    "_uuid": "6c3b843e57133a6ae26f72e42f8c754371ee5e14",
    "execution": {
     "iopub.execute_input": "2022-04-01T12:13:06.120157Z",
     "iopub.status.busy": "2022-04-01T12:13:06.119562Z",
     "iopub.status.idle": "2022-04-01T12:13:11.637320Z",
     "shell.execute_reply": "2022-04-01T12:13:11.636105Z",
     "shell.execute_reply.started": "2022-04-01T12:13:06.120051Z"
    }
   },
   "outputs": [
    {
     "name": "stdout",
     "output_type": "stream",
     "text": [
      "(284807, 31)\n"
     ]
    },
    {
     "data": {
      "text/html": [
       "<div>\n",
       "<style scoped>\n",
       "    .dataframe tbody tr th:only-of-type {\n",
       "        vertical-align: middle;\n",
       "    }\n",
       "\n",
       "    .dataframe tbody tr th {\n",
       "        vertical-align: top;\n",
       "    }\n",
       "\n",
       "    .dataframe thead th {\n",
       "        text-align: right;\n",
       "    }\n",
       "</style>\n",
       "<table border=\"1\" class=\"dataframe\">\n",
       "  <thead>\n",
       "    <tr style=\"text-align: right;\">\n",
       "      <th></th>\n",
       "      <th>Time</th>\n",
       "      <th>V1</th>\n",
       "      <th>V2</th>\n",
       "      <th>V3</th>\n",
       "      <th>V4</th>\n",
       "      <th>V5</th>\n",
       "      <th>V6</th>\n",
       "      <th>V7</th>\n",
       "      <th>V8</th>\n",
       "      <th>V9</th>\n",
       "      <th>...</th>\n",
       "      <th>V21</th>\n",
       "      <th>V22</th>\n",
       "      <th>V23</th>\n",
       "      <th>V24</th>\n",
       "      <th>V25</th>\n",
       "      <th>V26</th>\n",
       "      <th>V27</th>\n",
       "      <th>V28</th>\n",
       "      <th>Amount</th>\n",
       "      <th>Class</th>\n",
       "    </tr>\n",
       "  </thead>\n",
       "  <tbody>\n",
       "    <tr>\n",
       "      <th>0</th>\n",
       "      <td>0.0</td>\n",
       "      <td>-1.359807</td>\n",
       "      <td>-0.072781</td>\n",
       "      <td>2.536347</td>\n",
       "      <td>1.378155</td>\n",
       "      <td>-0.338321</td>\n",
       "      <td>0.462388</td>\n",
       "      <td>0.239599</td>\n",
       "      <td>0.098698</td>\n",
       "      <td>0.363787</td>\n",
       "      <td>...</td>\n",
       "      <td>-0.018307</td>\n",
       "      <td>0.277838</td>\n",
       "      <td>-0.110474</td>\n",
       "      <td>0.066928</td>\n",
       "      <td>0.128539</td>\n",
       "      <td>-0.189115</td>\n",
       "      <td>0.133558</td>\n",
       "      <td>-0.021053</td>\n",
       "      <td>149.62</td>\n",
       "      <td>0</td>\n",
       "    </tr>\n",
       "    <tr>\n",
       "      <th>1</th>\n",
       "      <td>0.0</td>\n",
       "      <td>1.191857</td>\n",
       "      <td>0.266151</td>\n",
       "      <td>0.166480</td>\n",
       "      <td>0.448154</td>\n",
       "      <td>0.060018</td>\n",
       "      <td>-0.082361</td>\n",
       "      <td>-0.078803</td>\n",
       "      <td>0.085102</td>\n",
       "      <td>-0.255425</td>\n",
       "      <td>...</td>\n",
       "      <td>-0.225775</td>\n",
       "      <td>-0.638672</td>\n",
       "      <td>0.101288</td>\n",
       "      <td>-0.339846</td>\n",
       "      <td>0.167170</td>\n",
       "      <td>0.125895</td>\n",
       "      <td>-0.008983</td>\n",
       "      <td>0.014724</td>\n",
       "      <td>2.69</td>\n",
       "      <td>0</td>\n",
       "    </tr>\n",
       "    <tr>\n",
       "      <th>2</th>\n",
       "      <td>1.0</td>\n",
       "      <td>-1.358354</td>\n",
       "      <td>-1.340163</td>\n",
       "      <td>1.773209</td>\n",
       "      <td>0.379780</td>\n",
       "      <td>-0.503198</td>\n",
       "      <td>1.800499</td>\n",
       "      <td>0.791461</td>\n",
       "      <td>0.247676</td>\n",
       "      <td>-1.514654</td>\n",
       "      <td>...</td>\n",
       "      <td>0.247998</td>\n",
       "      <td>0.771679</td>\n",
       "      <td>0.909412</td>\n",
       "      <td>-0.689281</td>\n",
       "      <td>-0.327642</td>\n",
       "      <td>-0.139097</td>\n",
       "      <td>-0.055353</td>\n",
       "      <td>-0.059752</td>\n",
       "      <td>378.66</td>\n",
       "      <td>0</td>\n",
       "    </tr>\n",
       "    <tr>\n",
       "      <th>3</th>\n",
       "      <td>1.0</td>\n",
       "      <td>-0.966272</td>\n",
       "      <td>-0.185226</td>\n",
       "      <td>1.792993</td>\n",
       "      <td>-0.863291</td>\n",
       "      <td>-0.010309</td>\n",
       "      <td>1.247203</td>\n",
       "      <td>0.237609</td>\n",
       "      <td>0.377436</td>\n",
       "      <td>-1.387024</td>\n",
       "      <td>...</td>\n",
       "      <td>-0.108300</td>\n",
       "      <td>0.005274</td>\n",
       "      <td>-0.190321</td>\n",
       "      <td>-1.175575</td>\n",
       "      <td>0.647376</td>\n",
       "      <td>-0.221929</td>\n",
       "      <td>0.062723</td>\n",
       "      <td>0.061458</td>\n",
       "      <td>123.50</td>\n",
       "      <td>0</td>\n",
       "    </tr>\n",
       "    <tr>\n",
       "      <th>4</th>\n",
       "      <td>2.0</td>\n",
       "      <td>-1.158233</td>\n",
       "      <td>0.877737</td>\n",
       "      <td>1.548718</td>\n",
       "      <td>0.403034</td>\n",
       "      <td>-0.407193</td>\n",
       "      <td>0.095921</td>\n",
       "      <td>0.592941</td>\n",
       "      <td>-0.270533</td>\n",
       "      <td>0.817739</td>\n",
       "      <td>...</td>\n",
       "      <td>-0.009431</td>\n",
       "      <td>0.798278</td>\n",
       "      <td>-0.137458</td>\n",
       "      <td>0.141267</td>\n",
       "      <td>-0.206010</td>\n",
       "      <td>0.502292</td>\n",
       "      <td>0.219422</td>\n",
       "      <td>0.215153</td>\n",
       "      <td>69.99</td>\n",
       "      <td>0</td>\n",
       "    </tr>\n",
       "  </tbody>\n",
       "</table>\n",
       "<p>5 rows × 31 columns</p>\n",
       "</div>"
      ],
      "text/plain": [
       "   Time        V1        V2        V3        V4        V5        V6        V7  \\\n",
       "0   0.0 -1.359807 -0.072781  2.536347  1.378155 -0.338321  0.462388  0.239599   \n",
       "1   0.0  1.191857  0.266151  0.166480  0.448154  0.060018 -0.082361 -0.078803   \n",
       "2   1.0 -1.358354 -1.340163  1.773209  0.379780 -0.503198  1.800499  0.791461   \n",
       "3   1.0 -0.966272 -0.185226  1.792993 -0.863291 -0.010309  1.247203  0.237609   \n",
       "4   2.0 -1.158233  0.877737  1.548718  0.403034 -0.407193  0.095921  0.592941   \n",
       "\n",
       "         V8        V9  ...         V21       V22       V23       V24  \\\n",
       "0  0.098698  0.363787  ...   -0.018307  0.277838 -0.110474  0.066928   \n",
       "1  0.085102 -0.255425  ...   -0.225775 -0.638672  0.101288 -0.339846   \n",
       "2  0.247676 -1.514654  ...    0.247998  0.771679  0.909412 -0.689281   \n",
       "3  0.377436 -1.387024  ...   -0.108300  0.005274 -0.190321 -1.175575   \n",
       "4 -0.270533  0.817739  ...   -0.009431  0.798278 -0.137458  0.141267   \n",
       "\n",
       "        V25       V26       V27       V28  Amount  Class  \n",
       "0  0.128539 -0.189115  0.133558 -0.021053  149.62      0  \n",
       "1  0.167170  0.125895 -0.008983  0.014724    2.69      0  \n",
       "2 -0.327642 -0.139097 -0.055353 -0.059752  378.66      0  \n",
       "3  0.647376 -0.221929  0.062723  0.061458  123.50      0  \n",
       "4 -0.206010  0.502292  0.219422  0.215153   69.99      0  \n",
       "\n",
       "[5 rows x 31 columns]"
      ]
     },
     "execution_count": 1,
     "metadata": {},
     "output_type": "execute_result"
    }
   ],
   "source": [
    "# Import necessary libraries\n",
    "import numpy as np\n",
    "import pandas as pd\n",
    "import matplotlib.pyplot as plt\n",
    "import seaborn as sns\n",
    "sns.set()\n",
    "%matplotlib inline\n",
    "\n",
    "# create dataframe with dataset\n",
    "df = pd.read_csv('../input/creditcard.csv')\n",
    "print(df.shape)\n",
    "df.head()"
   ]
  },
  {
   "cell_type": "markdown",
   "metadata": {},
   "source": [
    "The customer dataset has 31 columns and 284,807 number of rows. "
   ]
  },
  {
   "cell_type": "markdown",
   "metadata": {},
   "source": [
    "### Find null values and data types"
   ]
  },
  {
   "cell_type": "code",
   "execution_count": 2,
   "metadata": {
    "_cell_guid": "523053d7-cfb3-4867-99f3-af4e6e14d2ee",
    "_uuid": "19ebd704405c32bc530de0194d47e1000e3ea5ff",
    "execution": {
     "iopub.execute_input": "2022-04-01T12:13:18.793890Z",
     "iopub.status.busy": "2022-04-01T12:13:18.793243Z",
     "iopub.status.idle": "2022-04-01T12:13:19.122665Z",
     "shell.execute_reply": "2022-04-01T12:13:19.121688Z",
     "shell.execute_reply.started": "2022-04-01T12:13:18.793846Z"
    }
   },
   "outputs": [
    {
     "name": "stdout",
     "output_type": "stream",
     "text": [
      "<class 'pandas.core.frame.DataFrame'>\n",
      "RangeIndex: 284807 entries, 0 to 284806\n",
      "Data columns (total 31 columns):\n",
      "Time      284807 non-null float64\n",
      "V1        284807 non-null float64\n",
      "V2        284807 non-null float64\n",
      "V3        284807 non-null float64\n",
      "V4        284807 non-null float64\n",
      "V5        284807 non-null float64\n",
      "V6        284807 non-null float64\n",
      "V7        284807 non-null float64\n",
      "V8        284807 non-null float64\n",
      "V9        284807 non-null float64\n",
      "V10       284807 non-null float64\n",
      "V11       284807 non-null float64\n",
      "V12       284807 non-null float64\n",
      "V13       284807 non-null float64\n",
      "V14       284807 non-null float64\n",
      "V15       284807 non-null float64\n",
      "V16       284807 non-null float64\n",
      "V17       284807 non-null float64\n",
      "V18       284807 non-null float64\n",
      "V19       284807 non-null float64\n",
      "V20       284807 non-null float64\n",
      "V21       284807 non-null float64\n",
      "V22       284807 non-null float64\n",
      "V23       284807 non-null float64\n",
      "V24       284807 non-null float64\n",
      "V25       284807 non-null float64\n",
      "V26       284807 non-null float64\n",
      "V27       284807 non-null float64\n",
      "V28       284807 non-null float64\n",
      "Amount    284807 non-null float64\n",
      "Class     284807 non-null int64\n",
      "dtypes: float64(30), int64(1)\n",
      "memory usage: 67.4 MB\n"
     ]
    }
   ],
   "source": [
    "df.info()"
   ]
  },
  {
   "cell_type": "markdown",
   "metadata": {},
   "source": [
    "No null values or missing values and all variables are numerical so no preprocessing for empty values and string operations. "
   ]
  },
  {
   "cell_type": "markdown",
   "metadata": {},
   "source": [
    "### Central Tendencies of the Dataset Variables"
   ]
  },
  {
   "cell_type": "code",
   "execution_count": 3,
   "metadata": {
    "_cell_guid": "df468b46-c71d-48aa-9210-031d889e6caa",
    "_uuid": "b3942380600e6867f0ea092030c0356b8ba6e20a",
    "execution": {
     "iopub.execute_input": "2022-04-01T12:13:24.262021Z",
     "iopub.status.busy": "2022-04-01T12:13:24.261358Z",
     "iopub.status.idle": "2022-04-01T12:13:24.935289Z",
     "shell.execute_reply": "2022-04-01T12:13:24.934217Z",
     "shell.execute_reply.started": "2022-04-01T12:13:24.261976Z"
    }
   },
   "outputs": [
    {
     "data": {
      "text/html": [
       "<div>\n",
       "<style scoped>\n",
       "    .dataframe tbody tr th:only-of-type {\n",
       "        vertical-align: middle;\n",
       "    }\n",
       "\n",
       "    .dataframe tbody tr th {\n",
       "        vertical-align: top;\n",
       "    }\n",
       "\n",
       "    .dataframe thead th {\n",
       "        text-align: right;\n",
       "    }\n",
       "</style>\n",
       "<table border=\"1\" class=\"dataframe\">\n",
       "  <thead>\n",
       "    <tr style=\"text-align: right;\">\n",
       "      <th></th>\n",
       "      <th>Time</th>\n",
       "      <th>V1</th>\n",
       "      <th>V2</th>\n",
       "      <th>V3</th>\n",
       "      <th>V4</th>\n",
       "      <th>V5</th>\n",
       "      <th>V6</th>\n",
       "      <th>V7</th>\n",
       "      <th>V8</th>\n",
       "      <th>V9</th>\n",
       "      <th>...</th>\n",
       "      <th>V21</th>\n",
       "      <th>V22</th>\n",
       "      <th>V23</th>\n",
       "      <th>V24</th>\n",
       "      <th>V25</th>\n",
       "      <th>V26</th>\n",
       "      <th>V27</th>\n",
       "      <th>V28</th>\n",
       "      <th>Amount</th>\n",
       "      <th>Class</th>\n",
       "    </tr>\n",
       "  </thead>\n",
       "  <tbody>\n",
       "    <tr>\n",
       "      <th>count</th>\n",
       "      <td>284807.000000</td>\n",
       "      <td>2.848070e+05</td>\n",
       "      <td>2.848070e+05</td>\n",
       "      <td>2.848070e+05</td>\n",
       "      <td>2.848070e+05</td>\n",
       "      <td>2.848070e+05</td>\n",
       "      <td>2.848070e+05</td>\n",
       "      <td>2.848070e+05</td>\n",
       "      <td>2.848070e+05</td>\n",
       "      <td>2.848070e+05</td>\n",
       "      <td>...</td>\n",
       "      <td>2.848070e+05</td>\n",
       "      <td>2.848070e+05</td>\n",
       "      <td>2.848070e+05</td>\n",
       "      <td>2.848070e+05</td>\n",
       "      <td>2.848070e+05</td>\n",
       "      <td>2.848070e+05</td>\n",
       "      <td>2.848070e+05</td>\n",
       "      <td>2.848070e+05</td>\n",
       "      <td>284807.000000</td>\n",
       "      <td>284807.000000</td>\n",
       "    </tr>\n",
       "    <tr>\n",
       "      <th>mean</th>\n",
       "      <td>94813.859575</td>\n",
       "      <td>3.919560e-15</td>\n",
       "      <td>5.688174e-16</td>\n",
       "      <td>-8.769071e-15</td>\n",
       "      <td>2.782312e-15</td>\n",
       "      <td>-1.552563e-15</td>\n",
       "      <td>2.010663e-15</td>\n",
       "      <td>-1.694249e-15</td>\n",
       "      <td>-1.927028e-16</td>\n",
       "      <td>-3.137024e-15</td>\n",
       "      <td>...</td>\n",
       "      <td>1.537294e-16</td>\n",
       "      <td>7.959909e-16</td>\n",
       "      <td>5.367590e-16</td>\n",
       "      <td>4.458112e-15</td>\n",
       "      <td>1.453003e-15</td>\n",
       "      <td>1.699104e-15</td>\n",
       "      <td>-3.660161e-16</td>\n",
       "      <td>-1.206049e-16</td>\n",
       "      <td>88.349619</td>\n",
       "      <td>0.001727</td>\n",
       "    </tr>\n",
       "    <tr>\n",
       "      <th>std</th>\n",
       "      <td>47488.145955</td>\n",
       "      <td>1.958696e+00</td>\n",
       "      <td>1.651309e+00</td>\n",
       "      <td>1.516255e+00</td>\n",
       "      <td>1.415869e+00</td>\n",
       "      <td>1.380247e+00</td>\n",
       "      <td>1.332271e+00</td>\n",
       "      <td>1.237094e+00</td>\n",
       "      <td>1.194353e+00</td>\n",
       "      <td>1.098632e+00</td>\n",
       "      <td>...</td>\n",
       "      <td>7.345240e-01</td>\n",
       "      <td>7.257016e-01</td>\n",
       "      <td>6.244603e-01</td>\n",
       "      <td>6.056471e-01</td>\n",
       "      <td>5.212781e-01</td>\n",
       "      <td>4.822270e-01</td>\n",
       "      <td>4.036325e-01</td>\n",
       "      <td>3.300833e-01</td>\n",
       "      <td>250.120109</td>\n",
       "      <td>0.041527</td>\n",
       "    </tr>\n",
       "    <tr>\n",
       "      <th>min</th>\n",
       "      <td>0.000000</td>\n",
       "      <td>-5.640751e+01</td>\n",
       "      <td>-7.271573e+01</td>\n",
       "      <td>-4.832559e+01</td>\n",
       "      <td>-5.683171e+00</td>\n",
       "      <td>-1.137433e+02</td>\n",
       "      <td>-2.616051e+01</td>\n",
       "      <td>-4.355724e+01</td>\n",
       "      <td>-7.321672e+01</td>\n",
       "      <td>-1.343407e+01</td>\n",
       "      <td>...</td>\n",
       "      <td>-3.483038e+01</td>\n",
       "      <td>-1.093314e+01</td>\n",
       "      <td>-4.480774e+01</td>\n",
       "      <td>-2.836627e+00</td>\n",
       "      <td>-1.029540e+01</td>\n",
       "      <td>-2.604551e+00</td>\n",
       "      <td>-2.256568e+01</td>\n",
       "      <td>-1.543008e+01</td>\n",
       "      <td>0.000000</td>\n",
       "      <td>0.000000</td>\n",
       "    </tr>\n",
       "    <tr>\n",
       "      <th>25%</th>\n",
       "      <td>54201.500000</td>\n",
       "      <td>-9.203734e-01</td>\n",
       "      <td>-5.985499e-01</td>\n",
       "      <td>-8.903648e-01</td>\n",
       "      <td>-8.486401e-01</td>\n",
       "      <td>-6.915971e-01</td>\n",
       "      <td>-7.682956e-01</td>\n",
       "      <td>-5.540759e-01</td>\n",
       "      <td>-2.086297e-01</td>\n",
       "      <td>-6.430976e-01</td>\n",
       "      <td>...</td>\n",
       "      <td>-2.283949e-01</td>\n",
       "      <td>-5.423504e-01</td>\n",
       "      <td>-1.618463e-01</td>\n",
       "      <td>-3.545861e-01</td>\n",
       "      <td>-3.171451e-01</td>\n",
       "      <td>-3.269839e-01</td>\n",
       "      <td>-7.083953e-02</td>\n",
       "      <td>-5.295979e-02</td>\n",
       "      <td>5.600000</td>\n",
       "      <td>0.000000</td>\n",
       "    </tr>\n",
       "    <tr>\n",
       "      <th>50%</th>\n",
       "      <td>84692.000000</td>\n",
       "      <td>1.810880e-02</td>\n",
       "      <td>6.548556e-02</td>\n",
       "      <td>1.798463e-01</td>\n",
       "      <td>-1.984653e-02</td>\n",
       "      <td>-5.433583e-02</td>\n",
       "      <td>-2.741871e-01</td>\n",
       "      <td>4.010308e-02</td>\n",
       "      <td>2.235804e-02</td>\n",
       "      <td>-5.142873e-02</td>\n",
       "      <td>...</td>\n",
       "      <td>-2.945017e-02</td>\n",
       "      <td>6.781943e-03</td>\n",
       "      <td>-1.119293e-02</td>\n",
       "      <td>4.097606e-02</td>\n",
       "      <td>1.659350e-02</td>\n",
       "      <td>-5.213911e-02</td>\n",
       "      <td>1.342146e-03</td>\n",
       "      <td>1.124383e-02</td>\n",
       "      <td>22.000000</td>\n",
       "      <td>0.000000</td>\n",
       "    </tr>\n",
       "    <tr>\n",
       "      <th>75%</th>\n",
       "      <td>139320.500000</td>\n",
       "      <td>1.315642e+00</td>\n",
       "      <td>8.037239e-01</td>\n",
       "      <td>1.027196e+00</td>\n",
       "      <td>7.433413e-01</td>\n",
       "      <td>6.119264e-01</td>\n",
       "      <td>3.985649e-01</td>\n",
       "      <td>5.704361e-01</td>\n",
       "      <td>3.273459e-01</td>\n",
       "      <td>5.971390e-01</td>\n",
       "      <td>...</td>\n",
       "      <td>1.863772e-01</td>\n",
       "      <td>5.285536e-01</td>\n",
       "      <td>1.476421e-01</td>\n",
       "      <td>4.395266e-01</td>\n",
       "      <td>3.507156e-01</td>\n",
       "      <td>2.409522e-01</td>\n",
       "      <td>9.104512e-02</td>\n",
       "      <td>7.827995e-02</td>\n",
       "      <td>77.165000</td>\n",
       "      <td>0.000000</td>\n",
       "    </tr>\n",
       "    <tr>\n",
       "      <th>max</th>\n",
       "      <td>172792.000000</td>\n",
       "      <td>2.454930e+00</td>\n",
       "      <td>2.205773e+01</td>\n",
       "      <td>9.382558e+00</td>\n",
       "      <td>1.687534e+01</td>\n",
       "      <td>3.480167e+01</td>\n",
       "      <td>7.330163e+01</td>\n",
       "      <td>1.205895e+02</td>\n",
       "      <td>2.000721e+01</td>\n",
       "      <td>1.559499e+01</td>\n",
       "      <td>...</td>\n",
       "      <td>2.720284e+01</td>\n",
       "      <td>1.050309e+01</td>\n",
       "      <td>2.252841e+01</td>\n",
       "      <td>4.584549e+00</td>\n",
       "      <td>7.519589e+00</td>\n",
       "      <td>3.517346e+00</td>\n",
       "      <td>3.161220e+01</td>\n",
       "      <td>3.384781e+01</td>\n",
       "      <td>25691.160000</td>\n",
       "      <td>1.000000</td>\n",
       "    </tr>\n",
       "  </tbody>\n",
       "</table>\n",
       "<p>8 rows × 31 columns</p>\n",
       "</div>"
      ],
      "text/plain": [
       "                Time            V1            V2            V3            V4  \\\n",
       "count  284807.000000  2.848070e+05  2.848070e+05  2.848070e+05  2.848070e+05   \n",
       "mean    94813.859575  3.919560e-15  5.688174e-16 -8.769071e-15  2.782312e-15   \n",
       "std     47488.145955  1.958696e+00  1.651309e+00  1.516255e+00  1.415869e+00   \n",
       "min         0.000000 -5.640751e+01 -7.271573e+01 -4.832559e+01 -5.683171e+00   \n",
       "25%     54201.500000 -9.203734e-01 -5.985499e-01 -8.903648e-01 -8.486401e-01   \n",
       "50%     84692.000000  1.810880e-02  6.548556e-02  1.798463e-01 -1.984653e-02   \n",
       "75%    139320.500000  1.315642e+00  8.037239e-01  1.027196e+00  7.433413e-01   \n",
       "max    172792.000000  2.454930e+00  2.205773e+01  9.382558e+00  1.687534e+01   \n",
       "\n",
       "                 V5            V6            V7            V8            V9  \\\n",
       "count  2.848070e+05  2.848070e+05  2.848070e+05  2.848070e+05  2.848070e+05   \n",
       "mean  -1.552563e-15  2.010663e-15 -1.694249e-15 -1.927028e-16 -3.137024e-15   \n",
       "std    1.380247e+00  1.332271e+00  1.237094e+00  1.194353e+00  1.098632e+00   \n",
       "min   -1.137433e+02 -2.616051e+01 -4.355724e+01 -7.321672e+01 -1.343407e+01   \n",
       "25%   -6.915971e-01 -7.682956e-01 -5.540759e-01 -2.086297e-01 -6.430976e-01   \n",
       "50%   -5.433583e-02 -2.741871e-01  4.010308e-02  2.235804e-02 -5.142873e-02   \n",
       "75%    6.119264e-01  3.985649e-01  5.704361e-01  3.273459e-01  5.971390e-01   \n",
       "max    3.480167e+01  7.330163e+01  1.205895e+02  2.000721e+01  1.559499e+01   \n",
       "\n",
       "           ...                 V21           V22           V23           V24  \\\n",
       "count      ...        2.848070e+05  2.848070e+05  2.848070e+05  2.848070e+05   \n",
       "mean       ...        1.537294e-16  7.959909e-16  5.367590e-16  4.458112e-15   \n",
       "std        ...        7.345240e-01  7.257016e-01  6.244603e-01  6.056471e-01   \n",
       "min        ...       -3.483038e+01 -1.093314e+01 -4.480774e+01 -2.836627e+00   \n",
       "25%        ...       -2.283949e-01 -5.423504e-01 -1.618463e-01 -3.545861e-01   \n",
       "50%        ...       -2.945017e-02  6.781943e-03 -1.119293e-02  4.097606e-02   \n",
       "75%        ...        1.863772e-01  5.285536e-01  1.476421e-01  4.395266e-01   \n",
       "max        ...        2.720284e+01  1.050309e+01  2.252841e+01  4.584549e+00   \n",
       "\n",
       "                V25           V26           V27           V28         Amount  \\\n",
       "count  2.848070e+05  2.848070e+05  2.848070e+05  2.848070e+05  284807.000000   \n",
       "mean   1.453003e-15  1.699104e-15 -3.660161e-16 -1.206049e-16      88.349619   \n",
       "std    5.212781e-01  4.822270e-01  4.036325e-01  3.300833e-01     250.120109   \n",
       "min   -1.029540e+01 -2.604551e+00 -2.256568e+01 -1.543008e+01       0.000000   \n",
       "25%   -3.171451e-01 -3.269839e-01 -7.083953e-02 -5.295979e-02       5.600000   \n",
       "50%    1.659350e-02 -5.213911e-02  1.342146e-03  1.124383e-02      22.000000   \n",
       "75%    3.507156e-01  2.409522e-01  9.104512e-02  7.827995e-02      77.165000   \n",
       "max    7.519589e+00  3.517346e+00  3.161220e+01  3.384781e+01   25691.160000   \n",
       "\n",
       "               Class  \n",
       "count  284807.000000  \n",
       "mean        0.001727  \n",
       "std         0.041527  \n",
       "min         0.000000  \n",
       "25%         0.000000  \n",
       "50%         0.000000  \n",
       "75%         0.000000  \n",
       "max         1.000000  \n",
       "\n",
       "[8 rows x 31 columns]"
      ]
     },
     "execution_count": 3,
     "metadata": {},
     "output_type": "execute_result"
    }
   ],
   "source": [
    "df.describe()"
   ]
  },
  {
   "cell_type": "markdown",
   "metadata": {
    "_cell_guid": "41fd5cb0-0fb1-4f98-84c2-ba41735bfc19",
    "_uuid": "d749f4483bd5555ba78c7a8dddaa20f840931e0d"
   },
   "source": [
    "### How many are fraud and how many are not fraud ?"
   ]
  },
  {
   "cell_type": "code",
   "execution_count": 4,
   "metadata": {
    "_cell_guid": "f64d4ecf-55e3-4c1e-9c80-4c68bbb888c8",
    "_kg_hide-output": true,
    "_uuid": "09c4d668b9f5f279966ae75a695d108dce140d5b",
    "execution": {
     "iopub.execute_input": "2022-04-01T12:13:29.781053Z",
     "iopub.status.busy": "2022-04-01T12:13:29.780616Z",
     "iopub.status.idle": "2022-04-01T12:13:29.795731Z",
     "shell.execute_reply": "2022-04-01T12:13:29.794324Z",
     "shell.execute_reply.started": "2022-04-01T12:13:29.780996Z"
    }
   },
   "outputs": [
    {
     "name": "stdout",
     "output_type": "stream",
     "text": [
      "Not Fraud    284315\n",
      "Fraud           492\n",
      "Name: Class, dtype: int64\n"
     ]
    }
   ],
   "source": [
    "class_names = {0:'Not Fraud', 1:'Fraud'}\n",
    "\n",
    "# count the distinct values and rename the index\n",
    "print(df.Class.value_counts().rename(index = class_names))"
   ]
  },
  {
   "cell_type": "markdown",
   "metadata": {},
   "source": [
    "## Data Pre-processing\n",
    "* Define features and target variables\n",
    "* Split Dataset into training and test sets\n",
    "* Data normalization"
   ]
  },
  {
   "cell_type": "markdown",
   "metadata": {},
   "source": [
    "### Define features and target variables\n",
    "\n",
    "The variables in the dataset to be used for training the model is categorised as either features or target.  \n",
    "The target variable is usually the value to be predicted - the goal. It is a dependent variable because it depends on the outcome of all other variables (the features).  \n",
    "The features are the attributes that determine what the target will be. The are the independent variables.  \n",
    "The codes below will group these variables in two named dataframes for easy processing and training."
   ]
  },
  {
   "cell_type": "code",
   "execution_count": 5,
   "metadata": {
    "_uuid": "0865151963b5c0ee38c47417247e307e4b772ab0",
    "execution": {
     "iopub.execute_input": "2022-04-01T12:13:35.113176Z",
     "iopub.status.busy": "2022-04-01T12:13:35.112856Z",
     "iopub.status.idle": "2022-04-01T12:13:35.163383Z",
     "shell.execute_reply": "2022-04-01T12:13:35.162312Z",
     "shell.execute_reply.started": "2022-04-01T12:13:35.113138Z"
    }
   },
   "outputs": [
    {
     "name": "stdout",
     "output_type": "stream",
     "text": [
      "Index(['V1', 'V2', 'V3', 'V4', 'V5', 'V6', 'V7', 'V8', 'V9', 'V10', 'V11',\n",
      "       'V12', 'V13', 'V14', 'V15', 'V16', 'V17', 'V18', 'V19', 'V20', 'V21',\n",
      "       'V22', 'V23', 'V24', 'V25', 'V26', 'V27', 'V28', 'Amount'],\n",
      "      dtype='object')\n",
      "Index(['Class'], dtype='object')\n"
     ]
    }
   ],
   "source": [
    "feature_names = df.iloc[:, 1:30].columns\n",
    "target = df.iloc[:1, 30: ].columns\n",
    "print(feature_names)\n",
    "print(target)"
   ]
  },
  {
   "cell_type": "code",
   "execution_count": 6,
   "metadata": {
    "_uuid": "a37acd4abaee20b28a863a2f19addf433a20d3dd",
    "execution": {
     "iopub.execute_input": "2022-04-01T12:13:38.747345Z",
     "iopub.status.busy": "2022-04-01T12:13:38.746998Z",
     "iopub.status.idle": "2022-04-01T12:13:38.784215Z",
     "shell.execute_reply": "2022-04-01T12:13:38.783253Z",
     "shell.execute_reply.started": "2022-04-01T12:13:38.747305Z"
    }
   },
   "outputs": [],
   "source": [
    "data_features = df[feature_names]\n",
    "data_target = df[target]"
   ]
  },
  {
   "cell_type": "markdown",
   "metadata": {},
   "source": [
    "### Data distribution"
   ]
  },
  {
   "cell_type": "code",
   "execution_count": 7,
   "metadata": {
    "execution": {
     "iopub.execute_input": "2022-04-01T12:13:41.890961Z",
     "iopub.status.busy": "2022-04-01T12:13:41.890533Z",
     "iopub.status.idle": "2022-04-01T12:13:42.086378Z",
     "shell.execute_reply": "2022-04-01T12:13:42.085259Z",
     "shell.execute_reply.started": "2022-04-01T12:13:41.890912Z"
    }
   },
   "outputs": [
    {
     "data": {
      "text/plain": [
       "<matplotlib.axes._subplots.AxesSubplot at 0x7ff32fbf6630>"
      ]
     },
     "execution_count": 7,
     "metadata": {},
     "output_type": "execute_result"
    },
    {
     "data": {
      "image/png": "[encoded data removed]",
      "text/plain": [
       "<matplotlib.figure.Figure at 0x7ff32fbf2e80>"
      ]
     },
     "metadata": {},
     "output_type": "display_data"
    }
   ],
   "source": [
    "sns.countplot(df['Class'],facecolor=(0, 0, 0, 0),linewidth=5,edgecolor=sns.color_palette(\"dark\", 3), label = \"Count\")"
   ]
  },
  {
   "cell_type": "markdown",
   "metadata": {},
   "source": [
    "### Split dataset into training and test sets\n",
    "\n",
    "This step divides the dataset in two samples of different sizes but with equivalent representation of features and target variables in both samples.  \n",
    "* The training sample (larger split) is used to train the model by letting it learn the relationships between the features and the target variables.  \n",
    "* The test sample (smaller split) is used to test the model by allowing it predict what the target of the test set will be when exposed to only the features. \n"
   ]
  },
  {
   "cell_type": "code",
   "execution_count": 8,
   "metadata": {
    "_cell_guid": "b92c5110-d797-4c0b-8d4a-fa99750d9327",
    "_uuid": "23fa3f706dacb182ac80bca2d43566cea1452fd9",
    "execution": {
     "iopub.execute_input": "2022-04-01T12:19:47.095467Z",
     "iopub.status.busy": "2022-04-01T12:19:47.095008Z",
     "iopub.status.idle": "2022-04-01T12:19:47.300397Z",
     "shell.execute_reply": "2022-04-01T12:19:47.299182Z",
     "shell.execute_reply.started": "2022-04-01T12:19:47.095398Z"
    }
   },
   "outputs": [],
   "source": [
    "# import library to split dataset into training and test set\n",
    "\n",
    "from sklearn.model_selection import train_test_split"
   ]
  },
  {
   "cell_type": "code",
   "execution_count": 9,
   "metadata": {
    "_uuid": "f4689f7759f500506e0b46b4fdec0f7a1f56548e",
    "execution": {
     "iopub.execute_input": "2022-04-01T12:19:49.582715Z",
     "iopub.status.busy": "2022-04-01T12:19:49.582346Z",
     "iopub.status.idle": "2022-04-01T12:19:49.763069Z",
     "shell.execute_reply": "2022-04-01T12:19:49.761066Z",
     "shell.execute_reply.started": "2022-04-01T12:19:49.582638Z"
    }
   },
   "outputs": [],
   "source": [
    "# To split the dataset into training and test sets\n",
    "\n",
    "X_train, X_test, y_train, y_test = train_test_split(data_features, data_target, \n",
    "                                                    train_size=0.80, \n",
    "                                                    test_size=0.20, \n",
    "                                                    random_state=0\n",
    "                                                   )"
   ]
  },
  {
   "cell_type": "markdown",
   "metadata": {},
   "source": [
    "### Data Normalization: Feature Scaling"
   ]
  },
  {
   "cell_type": "markdown",
   "metadata": {},
   "source": [
    "From the description of the dataset, we might experience some bias when training because of how much larger 'Amount' is relative to other variables.  \n",
    "The model might wrongly learn that among the features, the 'Amount' column has more effect on the target variable - the probability of a transaction being fraudulent.\n",
    "\n",
    "To solve this problem we normalize the data by representing all variables on same scale using Standard Scalar() function."
   ]
  },
  {
   "cell_type": "code",
   "execution_count": 10,
   "metadata": {
    "execution": {
     "iopub.execute_input": "2022-04-01T12:21:17.736545Z",
     "iopub.status.busy": "2022-04-01T12:21:17.736193Z",
     "iopub.status.idle": "2022-04-01T12:21:17.993198Z",
     "shell.execute_reply": "2022-04-01T12:21:17.991839Z",
     "shell.execute_reply.started": "2022-04-01T12:21:17.736505Z"
    }
   },
   "outputs": [],
   "source": [
    "# import standard scaler library\n",
    "from sklearn.preprocessing import StandardScaler  \n",
    "\n",
    "# Define the scaler to normalize the features in the dataset\n",
    "sc = StandardScaler()\n",
    "X_train = sc.fit_transform(X_train)\n",
    "X_test = sc.fit_transform(X_test)"
   ]
  },
  {
   "cell_type": "code",
   "execution_count": 11,
   "metadata": {
    "execution": {
     "iopub.execute_input": "2022-04-01T12:21:23.259993Z",
     "iopub.status.busy": "2022-04-01T12:21:23.259539Z",
     "iopub.status.idle": "2022-04-01T12:21:23.294982Z",
     "shell.execute_reply": "2022-04-01T12:21:23.294108Z",
     "shell.execute_reply.started": "2022-04-01T12:21:23.259888Z"
    }
   },
   "outputs": [
    {
     "data": {
      "text/html": [
       "<div>\n",
       "<style scoped>\n",
       "    .dataframe tbody tr th:only-of-type {\n",
       "        vertical-align: middle;\n",
       "    }\n",
       "\n",
       "    .dataframe tbody tr th {\n",
       "        vertical-align: top;\n",
       "    }\n",
       "\n",
       "    .dataframe thead th {\n",
       "        text-align: right;\n",
       "    }\n",
       "</style>\n",
       "<table border=\"1\" class=\"dataframe\">\n",
       "  <thead>\n",
       "    <tr style=\"text-align: right;\">\n",
       "      <th></th>\n",
       "      <th>V1</th>\n",
       "      <th>V2</th>\n",
       "      <th>V3</th>\n",
       "      <th>V4</th>\n",
       "      <th>V5</th>\n",
       "      <th>V6</th>\n",
       "      <th>V7</th>\n",
       "      <th>V8</th>\n",
       "      <th>V9</th>\n",
       "      <th>V10</th>\n",
       "      <th>...</th>\n",
       "      <th>V20</th>\n",
       "      <th>V21</th>\n",
       "      <th>V22</th>\n",
       "      <th>V23</th>\n",
       "      <th>V24</th>\n",
       "      <th>V25</th>\n",
       "      <th>V26</th>\n",
       "      <th>V27</th>\n",
       "      <th>V28</th>\n",
       "      <th>Amount</th>\n",
       "    </tr>\n",
       "  </thead>\n",
       "  <tbody>\n",
       "    <tr>\n",
       "      <th>0</th>\n",
       "      <td>-1.359807</td>\n",
       "      <td>-0.072781</td>\n",
       "      <td>2.536347</td>\n",
       "      <td>1.378155</td>\n",
       "      <td>-0.338321</td>\n",
       "      <td>0.462388</td>\n",
       "      <td>0.239599</td>\n",
       "      <td>0.098698</td>\n",
       "      <td>0.363787</td>\n",
       "      <td>0.090794</td>\n",
       "      <td>...</td>\n",
       "      <td>0.251412</td>\n",
       "      <td>-0.018307</td>\n",
       "      <td>0.277838</td>\n",
       "      <td>-0.110474</td>\n",
       "      <td>0.066928</td>\n",
       "      <td>0.128539</td>\n",
       "      <td>-0.189115</td>\n",
       "      <td>0.133558</td>\n",
       "      <td>-0.021053</td>\n",
       "      <td>149.62</td>\n",
       "    </tr>\n",
       "    <tr>\n",
       "      <th>1</th>\n",
       "      <td>1.191857</td>\n",
       "      <td>0.266151</td>\n",
       "      <td>0.166480</td>\n",
       "      <td>0.448154</td>\n",
       "      <td>0.060018</td>\n",
       "      <td>-0.082361</td>\n",
       "      <td>-0.078803</td>\n",
       "      <td>0.085102</td>\n",
       "      <td>-0.255425</td>\n",
       "      <td>-0.166974</td>\n",
       "      <td>...</td>\n",
       "      <td>-0.069083</td>\n",
       "      <td>-0.225775</td>\n",
       "      <td>-0.638672</td>\n",
       "      <td>0.101288</td>\n",
       "      <td>-0.339846</td>\n",
       "      <td>0.167170</td>\n",
       "      <td>0.125895</td>\n",
       "      <td>-0.008983</td>\n",
       "      <td>0.014724</td>\n",
       "      <td>2.69</td>\n",
       "    </tr>\n",
       "    <tr>\n",
       "      <th>2</th>\n",
       "      <td>-1.358354</td>\n",
       "      <td>-1.340163</td>\n",
       "      <td>1.773209</td>\n",
       "      <td>0.379780</td>\n",
       "      <td>-0.503198</td>\n",
       "      <td>1.800499</td>\n",
       "      <td>0.791461</td>\n",
       "      <td>0.247676</td>\n",
       "      <td>-1.514654</td>\n",
       "      <td>0.207643</td>\n",
       "      <td>...</td>\n",
       "      <td>0.524980</td>\n",
       "      <td>0.247998</td>\n",
       "      <td>0.771679</td>\n",
       "      <td>0.909412</td>\n",
       "      <td>-0.689281</td>\n",
       "      <td>-0.327642</td>\n",
       "      <td>-0.139097</td>\n",
       "      <td>-0.055353</td>\n",
       "      <td>-0.059752</td>\n",
       "      <td>378.66</td>\n",
       "    </tr>\n",
       "    <tr>\n",
       "      <th>3</th>\n",
       "      <td>-0.966272</td>\n",
       "      <td>-0.185226</td>\n",
       "      <td>1.792993</td>\n",
       "      <td>-0.863291</td>\n",
       "      <td>-0.010309</td>\n",
       "      <td>1.247203</td>\n",
       "      <td>0.237609</td>\n",
       "      <td>0.377436</td>\n",
       "      <td>-1.387024</td>\n",
       "      <td>-0.054952</td>\n",
       "      <td>...</td>\n",
       "      <td>-0.208038</td>\n",
       "      <td>-0.108300</td>\n",
       "      <td>0.005274</td>\n",
       "      <td>-0.190321</td>\n",
       "      <td>-1.175575</td>\n",
       "      <td>0.647376</td>\n",
       "      <td>-0.221929</td>\n",
       "      <td>0.062723</td>\n",
       "      <td>0.061458</td>\n",
       "      <td>123.50</td>\n",
       "    </tr>\n",
       "    <tr>\n",
       "      <th>4</th>\n",
       "      <td>-1.158233</td>\n",
       "      <td>0.877737</td>\n",
       "      <td>1.548718</td>\n",
       "      <td>0.403034</td>\n",
       "      <td>-0.407193</td>\n",
       "      <td>0.095921</td>\n",
       "      <td>0.592941</td>\n",
       "      <td>-0.270533</td>\n",
       "      <td>0.817739</td>\n",
       "      <td>0.753074</td>\n",
       "      <td>...</td>\n",
       "      <td>0.408542</td>\n",
       "      <td>-0.009431</td>\n",
       "      <td>0.798278</td>\n",
       "      <td>-0.137458</td>\n",
       "      <td>0.141267</td>\n",
       "      <td>-0.206010</td>\n",
       "      <td>0.502292</td>\n",
       "      <td>0.219422</td>\n",
       "      <td>0.215153</td>\n",
       "      <td>69.99</td>\n",
       "    </tr>\n",
       "  </tbody>\n",
       "</table>\n",
       "<p>5 rows × 29 columns</p>\n",
       "</div>"
      ],
      "text/plain": [
       "         V1        V2        V3        V4        V5        V6        V7  \\\n",
       "0 -1.359807 -0.072781  2.536347  1.378155 -0.338321  0.462388  0.239599   \n",
       "1  1.191857  0.266151  0.166480  0.448154  0.060018 -0.082361 -0.078803   \n",
       "2 -1.358354 -1.340163  1.773209  0.379780 -0.503198  1.800499  0.791461   \n",
       "3 -0.966272 -0.185226  1.792993 -0.863291 -0.010309  1.247203  0.237609   \n",
       "4 -1.158233  0.877737  1.548718  0.403034 -0.407193  0.095921  0.592941   \n",
       "\n",
       "         V8        V9       V10   ...         V20       V21       V22  \\\n",
       "0  0.098698  0.363787  0.090794   ...    0.251412 -0.018307  0.277838   \n",
       "1  0.085102 -0.255425 -0.166974   ...   -0.069083 -0.225775 -0.638672   \n",
       "2  0.247676 -1.514654  0.207643   ...    0.524980  0.247998  0.771679   \n",
       "3  0.377436 -1.387024 -0.054952   ...   -0.208038 -0.108300  0.005274   \n",
       "4 -0.270533  0.817739  0.753074   ...    0.408542 -0.009431  0.798278   \n",
       "\n",
       "        V23       V24       V25       V26       V27       V28  Amount  \n",
       "0 -0.110474  0.066928  0.128539 -0.189115  0.133558 -0.021053  149.62  \n",
       "1  0.101288 -0.339846  0.167170  0.125895 -0.008983  0.014724    2.69  \n",
       "2  0.909412 -0.689281 -0.327642 -0.139097 -0.055353 -0.059752  378.66  \n",
       "3 -0.190321 -1.175575  0.647376 -0.221929  0.062723  0.061458  123.50  \n",
       "4 -0.137458  0.141267 -0.206010  0.502292  0.219422  0.215153   69.99  \n",
       "\n",
       "[5 rows x 29 columns]"
      ]
     },
     "execution_count": 11,
     "metadata": {},
     "output_type": "execute_result"
    }
   ],
   "source": [
    "data_features.head()"
   ]
  },
  {
   "cell_type": "markdown",
   "metadata": {},
   "source": [
    "# Logistic Regression in Scikit-Learn #\n",
    "* Import relevant libraries\n",
    "* Train and Fit Linear Regression Model\n",
    "* Make Predictions and Evaluate Model"
   ]
  },
  {
   "cell_type": "markdown",
   "metadata": {},
   "source": [
    "### Import relevant libraries"
   ]
  },
  {
   "cell_type": "code",
   "execution_count": 12,
   "metadata": {
    "_uuid": "b5565440c6f32b96e3954f11bed3b4ed1c814a2c",
    "execution": {
     "iopub.execute_input": "2022-04-01T12:24:46.483662Z",
     "iopub.status.busy": "2022-04-01T12:24:46.483305Z",
     "iopub.status.idle": "2022-04-01T12:24:46.661780Z",
     "shell.execute_reply": "2022-04-01T12:24:46.660525Z",
     "shell.execute_reply.started": "2022-04-01T12:24:46.483622Z"
    }
   },
   "outputs": [],
   "source": [
    "# Importing relevant libraries \n",
    "from sklearn.linear_model import LogisticRegression  # Binary Model\n",
    "from sklearn.pipeline import Pipeline  # Pipelines for cleaner code\n",
    "from sklearn.metrics import accuracy_score  # To evaluate the model using accuracy\n",
    "from sklearn.metrics import confusion_matrix  # To evaluate model performance on training and test sets\n",
    "from sklearn.model_selection import cross_validate"
   ]
  },
  {
   "cell_type": "markdown",
   "metadata": {},
   "source": [
    "### Train and Fit Linear Regression Model"
   ]
  },
  {
   "cell_type": "code",
   "execution_count": 13,
   "metadata": {
    "_uuid": "a96a6494c1d70421a33d10fc72eaed743076e310",
    "execution": {
     "iopub.execute_input": "2022-04-01T12:24:49.994864Z",
     "iopub.status.busy": "2022-04-01T12:24:49.994407Z",
     "iopub.status.idle": "2022-04-01T12:24:53.678916Z",
     "shell.execute_reply": "2022-04-01T12:24:53.677346Z",
     "shell.execute_reply.started": "2022-04-01T12:24:49.994698Z"
    }
   },
   "outputs": [
    {
     "name": "stderr",
     "output_type": "stream",
     "text": [
      "/opt/conda/lib/python3.6/site-packages/sklearn/utils/validation.py:578: DataConversionWarning: A column-vector y was passed when a 1d array was expected. Please change the shape of y to (n_samples, ), for example using ravel().\n",
      "  y = column_or_1d(y, warn=True)\n"
     ]
    }
   ],
   "source": [
    "# Define and fit the logistic regression model\n",
    "model_lr = LogisticRegression(random_state = 0)\n",
    "model_lr.fit(X_train, y_train)\n",
    "\n",
    "# Make predictions\n",
    "pred_lr = model_lr.predict(X_test)"
   ]
  },
  {
   "cell_type": "markdown",
   "metadata": {},
   "source": [
    "### Make Predictions"
   ]
  },
  {
   "cell_type": "code",
   "execution_count": 14,
   "metadata": {
    "_uuid": "4a2d6800f5af7d3189c7c9ea9657ca93d7040de9",
    "execution": {
     "iopub.execute_input": "2022-04-01T12:25:42.159994Z",
     "iopub.status.busy": "2022-04-01T12:25:42.159603Z",
     "iopub.status.idle": "2022-04-01T12:25:42.259602Z",
     "shell.execute_reply": "2022-04-01T12:25:42.257879Z",
     "shell.execute_reply.started": "2022-04-01T12:25:42.159931Z"
    }
   },
   "outputs": [
    {
     "name": "stdout",
     "output_type": "stream",
     "text": [
      "[[56852     9]\n",
      " [   37    64]]\n"
     ]
    },
    {
     "data": {
      "text/plain": [
       "0.9991924440855307"
      ]
     },
     "execution_count": 14,
     "metadata": {},
     "output_type": "execute_result"
    }
   ],
   "source": [
    "# Evaluate model\n",
    "matrix = confusion_matrix(y_test, pred_lr)\n",
    "print(matrix)\n",
    "accuracy_score(y_test, pred_lr)"
   ]
  },
  {
   "cell_type": "code",
   "execution_count": 15,
   "metadata": {
    "_uuid": "649947e70143d5d16c40eb8c8ec524290b371c33",
    "execution": {
     "iopub.execute_input": "2022-04-01T12:25:53.143110Z",
     "iopub.status.busy": "2022-04-01T12:25:53.142585Z",
     "iopub.status.idle": "2022-04-01T12:25:53.330545Z",
     "shell.execute_reply": "2022-04-01T12:25:53.328059Z",
     "shell.execute_reply.started": "2022-04-01T12:25:53.143068Z"
    }
   },
   "outputs": [
    {
     "data": {
      "image/png": "[encoded data removed]",
      "text/plain": [
       "<matplotlib.figure.Figure at 0x7ff32e3249b0>"
      ]
     },
     "metadata": {},
     "output_type": "display_data"
    }
   ],
   "source": [
    "# Create pandas dataframe\n",
    "class_names = ['not_fraud', 'fraud']\n",
    "dataframe = pd.DataFrame(matrix, index=class_names, columns=class_names)\n",
    "\n",
    "# Create heatmap\n",
    "sns.heatmap(dataframe, annot=True, cbar=None, cmap=\"Blues\", fmt = 'g')\n",
    "plt.title(\"Confusion Matrix\"), plt.tight_layout()\n",
    "plt.ylabel(\"True Class\"), plt.xlabel(\"Predicted Class\")\n",
    "plt.show()"
   ]
  },
  {
   "cell_type": "markdown",
   "metadata": {},
   "source": [
    "### Evaluate Linear Regression Model"
   ]
  },
  {
   "cell_type": "code",
   "execution_count": 16,
   "metadata": {
    "_uuid": "c754b4bbb68afc4496aa68da24864ced818c3210",
    "execution": {
     "iopub.execute_input": "2022-04-01T12:40:18.953055Z",
     "iopub.status.busy": "2022-04-01T12:40:18.952583Z",
     "iopub.status.idle": "2022-04-01T12:40:18.981075Z",
     "shell.execute_reply": "2022-04-01T12:40:18.979292Z",
     "shell.execute_reply.started": "2022-04-01T12:40:18.952985Z"
    }
   },
   "outputs": [
    {
     "name": "stdout",
     "output_type": "stream",
     "text": [
      "Sensitivity/Recall for Logistic Regression Model : 0.63\n",
      "F1 Score for Logistic Regression Model : 0.74\n"
     ]
    }
   ],
   "source": [
    "from sklearn.metrics import f1_score, recall_score\n",
    "f1_score = round(f1_score(y_test, pred_lr), 2)\n",
    "recall_score = round(recall_score(y_test, pred_lr), 2)\n",
    "print(\"Sensitivity/Recall for Logistic Regression Model : {recall_score}\".format(recall_score = recall_score))\n",
    "print(\"F1 Score for Logistic Regression Model : {f1_score}\".format(f1_score = f1_score))"
   ]
  },
  {
   "cell_type": "markdown",
   "metadata": {
    "_uuid": "cafe5485e311102af6bedf1428b0ef2e0d77ddbf"
   },
   "source": [
    "### Discussion\n",
    "\n",
    "In the previous model created by RENJITH MADHAVAN where this notebook was copied from, the dataset was split into training and validation samples and used to train a Logistic Regression Model which resulted in the performance below,  \n",
    "\n",
    "**Sensitivity/Recall: 0.58\n",
    "F1 Score: 0.68**  \n",
    "\n",
    "\n",
    "However, with the addition of the standard scalar, there was a significant improvement in the model accurac as shown below,  \n",
    "\n",
    "**Sensitivity/Recall: 0.63\n",
    "F1 Score: 0.74**\n"
   ]
  },
  {
   "cell_type": "markdown",
   "metadata": {},
   "source": [
    "## Artificial Neural Networks in Tensorflow"
   ]
  },
  {
   "cell_type": "markdown",
   "metadata": {},
   "source": [
    "Artificial neural networks is a technology that mimics a human brain to learn from some key features and classify or predict in the real world. An artificial neural network is composed of numbers of neurons which is compared to the neurons in the human brain.\n",
    "\n",
    "So a basic Artificial neural network will be in a form of,  \n",
    "Input layer – To get the data from the user or a client or a server to analyze and give the result.  \n",
    "Hidden layers – This layer can be in any number and these layers will analyze the inputs with passing through them with different biases, weights, and activation functions to provide an output.  \n",
    "Output Layer – This is where we can get the result from a neural network.\n",
    "\n",
    "Some of the features that determine the quality of our neural network are:\n",
    "* Layers\n",
    "* Activation function\n",
    "* Loss function\n",
    "* Optimizer\n",
    "\n",
    "We can summarize the construction of deep learning models in Keras as follows:\n",
    "\n",
    "* Define model: Create a sequence and add layers.\n",
    "\n",
    "* Compile model: Specify loss functions and optimizers.\n",
    "\n",
    "* Fit model: Execute the model using data.\n",
    "\n",
    "* Make predictions: Use the model to generate predictions on new data."
   ]
  },
  {
   "cell_type": "markdown",
   "metadata": {},
   "source": [
    "### Importing Relevant Libraries"
   ]
  },
  {
   "cell_type": "code",
   "execution_count": 17,
   "metadata": {
    "execution": {
     "iopub.execute_input": "2022-04-01T12:46:05.889854Z",
     "iopub.status.busy": "2022-04-01T12:46:05.889463Z",
     "iopub.status.idle": "2022-04-01T12:46:09.080028Z",
     "shell.execute_reply": "2022-04-01T12:46:09.078444Z",
     "shell.execute_reply.started": "2022-04-01T12:46:05.889776Z"
    }
   },
   "outputs": [
    {
     "name": "stderr",
     "output_type": "stream",
     "text": [
      "/opt/conda/lib/python3.6/site-packages/h5py/__init__.py:36: FutureWarning: Conversion of the second argument of issubdtype from `float` to `np.floating` is deprecated. In future, it will be treated as `np.float64 == np.dtype(float).type`.\n",
      "  from ._conv import register_converters as _register_converters\n",
      "Using TensorFlow backend.\n"
     ]
    }
   ],
   "source": [
    "# Set up deep learning library\n",
    "from tensorflow import keras\n",
    "from keras import layers\n",
    "from keras import optimizers\n",
    "from keras.models import Sequential\n",
    "from keras.layers import BatchNormalization\n",
    "from keras.layers import Dense\n",
    "from keras.callbacks import EarlyStopping\n",
    "from keras.layers import Dropout\n",
    "\n",
    "input_shape = [X_train.shape[1]]"
   ]
  },
  {
   "cell_type": "markdown",
   "metadata": {},
   "source": [
    "### Define model: Create a sequence and add layers\n",
    "The specification of the parameters for the  model is represented in the model architecture given by this diagram:\n",
    "\n",
    "<figure style=\"padding: 1em;\">\n",
    "<img src=\"https://i.imgur.com/V04o59Z.png\" width=\"400\" alt=\"Diagram of network architecture: BatchNorm, Dense, BatchNorm, Dropout, Dense, BatchNorm, Dropout, Dense.\">\n",
    "<figcaption style=\"textalign: center; font-style: italic\"><center>Diagram of a binary classifier.</center></figcaption>\n",
    "</figure>"
   ]
  },
  {
   "cell_type": "code",
   "execution_count": 18,
   "metadata": {
    "execution": {
     "iopub.execute_input": "2022-04-01T12:46:13.860292Z",
     "iopub.status.busy": "2022-04-01T12:46:13.859667Z",
     "iopub.status.idle": "2022-04-01T12:46:14.246550Z",
     "shell.execute_reply": "2022-04-01T12:46:14.245616Z",
     "shell.execute_reply.started": "2022-04-01T12:46:13.859990Z"
    }
   },
   "outputs": [],
   "source": [
    "# define model\n",
    "model_s = Sequential()\n",
    "model_s.add(BatchNormalization(input_shape=input_shape))\n",
    "model_s.add(Dense(256, activation='relu'))\n",
    "model_s.add(BatchNormalization())\n",
    "model_s.add(Dropout(0.3))\n",
    "model_s.add(Dense(256, activation='relu'))\n",
    "model_s.add(BatchNormalization())\n",
    "model_s.add(Dropout(0.3))\n",
    "model_s.add(Dense(1, activation='sigmoid'))"
   ]
  },
  {
   "cell_type": "markdown",
   "metadata": {},
   "source": [
    "### Compile model: Specify loss functions and optimizers"
   ]
  },
  {
   "cell_type": "code",
   "execution_count": 19,
   "metadata": {
    "execution": {
     "iopub.execute_input": "2022-04-01T12:46:23.298300Z",
     "iopub.status.busy": "2022-04-01T12:46:23.297907Z",
     "iopub.status.idle": "2022-04-01T12:46:23.346284Z",
     "shell.execute_reply": "2022-04-01T12:46:23.345173Z",
     "shell.execute_reply.started": "2022-04-01T12:46:23.298240Z"
    }
   },
   "outputs": [],
   "source": [
    "# Add compiler\n",
    "\n",
    "model_s.compile(\n",
    "    optimizer='adam',\n",
    "    loss='binary_crossentropy',\n",
    "    metrics=['binary_accuracy'],\n",
    ")"
   ]
  },
  {
   "cell_type": "code",
   "execution_count": 20,
   "metadata": {
    "execution": {
     "iopub.execute_input": "2022-04-01T12:46:28.552007Z",
     "iopub.status.busy": "2022-04-01T12:46:28.551594Z",
     "iopub.status.idle": "2022-04-01T12:46:28.559039Z",
     "shell.execute_reply": "2022-04-01T12:46:28.557663Z",
     "shell.execute_reply.started": "2022-04-01T12:46:28.551951Z"
    }
   },
   "outputs": [],
   "source": [
    "# Define early stopping using validation loss \n",
    "\n",
    "early_stopping = EarlyStopping(\n",
    "    monitor=\"val_loss\",\n",
    "    patience=5,\n",
    "    min_delta=0.001,\n",
    "    verbose=2,\n",
    ")"
   ]
  },
  {
   "cell_type": "code",
   "execution_count": 21,
   "metadata": {
    "execution": {
     "iopub.execute_input": "2022-04-01T12:46:37.637994Z",
     "iopub.status.busy": "2022-04-01T12:46:37.637619Z",
     "iopub.status.idle": "2022-04-01T12:47:54.571271Z",
     "shell.execute_reply": "2022-04-01T12:47:54.570400Z",
     "shell.execute_reply.started": "2022-04-01T12:46:37.637931Z"
    }
   },
   "outputs": [
    {
     "name": "stdout",
     "output_type": "stream",
     "text": [
      "Train on 227845 samples, validate on 56962 samples\n",
      "Epoch 1/50\n",
      "227845/227845 [==============================] - 11s 48us/step - loss: 0.2267 - binary_accuracy: 0.9272 - val_loss: 0.0184 - val_binary_accuracy: 0.9994\n",
      "Epoch 2/50\n",
      "227845/227845 [==============================] - 10s 43us/step - loss: 0.0167 - binary_accuracy: 0.9990 - val_loss: 0.0102 - val_binary_accuracy: 0.9994\n",
      "Epoch 3/50\n",
      "227845/227845 [==============================] - 10s 43us/step - loss: 0.0099 - binary_accuracy: 0.9992 - val_loss: 0.0081 - val_binary_accuracy: 0.9994\n",
      "Epoch 4/50\n",
      "227845/227845 [==============================] - 10s 44us/step - loss: 0.0090 - binary_accuracy: 0.9992 - val_loss: 0.0082 - val_binary_accuracy: 0.9994\n",
      "Epoch 5/50\n",
      "227845/227845 [==============================] - 10s 43us/step - loss: 0.0078 - binary_accuracy: 0.9993 - val_loss: 0.0075 - val_binary_accuracy: 0.9994\n",
      "Epoch 6/50\n",
      "227845/227845 [==============================] - 10s 43us/step - loss: 0.0076 - binary_accuracy: 0.9993 - val_loss: 0.0077 - val_binary_accuracy: 0.9994\n",
      "Epoch 7/50\n",
      "227845/227845 [==============================] - 10s 43us/step - loss: 0.0068 - binary_accuracy: 0.9993 - val_loss: 0.0073 - val_binary_accuracy: 0.9994\n",
      "Epoch 8/50\n",
      "227845/227845 [==============================] - 10s 44us/step - loss: 0.0074 - binary_accuracy: 0.9993 - val_loss: 0.0070 - val_binary_accuracy: 0.9994\n",
      "Epoch 9/50\n",
      "227845/227845 [==============================] - 10s 43us/step - loss: 0.0068 - binary_accuracy: 0.9993 - val_loss: 0.0071 - val_binary_accuracy: 0.9993\n",
      "Epoch 10/50\n",
      "227845/227845 [==============================] - 10s 43us/step - loss: 0.0068 - binary_accuracy: 0.9993 - val_loss: 0.0069 - val_binary_accuracy: 0.9994\n",
      "Epoch 11/50\n",
      "227845/227845 [==============================] - 10s 44us/step - loss: 0.0063 - binary_accuracy: 0.9993 - val_loss: 0.0064 - val_binary_accuracy: 0.9994\n",
      "Epoch 12/50\n",
      "227845/227845 [==============================] - 10s 43us/step - loss: 0.0063 - binary_accuracy: 0.9993 - val_loss: 0.0059 - val_binary_accuracy: 0.9994\n",
      "Epoch 13/50\n",
      "227845/227845 [==============================] - 10s 43us/step - loss: 0.0055 - binary_accuracy: 0.9993 - val_loss: 0.0056 - val_binary_accuracy: 0.9994\n",
      "Epoch 14/50\n",
      "227845/227845 [==============================] - 10s 43us/step - loss: 0.0052 - binary_accuracy: 0.9994 - val_loss: 0.0057 - val_binary_accuracy: 0.9994\n",
      "Epoch 15/50\n",
      "227845/227845 [==============================] - 10s 43us/step - loss: 0.0054 - binary_accuracy: 0.9994 - val_loss: 0.0051 - val_binary_accuracy: 0.9994\n",
      "Epoch 16/50\n",
      "227845/227845 [==============================] - 10s 43us/step - loss: 0.0053 - binary_accuracy: 0.9993 - val_loss: 0.0048 - val_binary_accuracy: 0.9994\n",
      "Epoch 17/50\n",
      "227845/227845 [==============================] - 10s 43us/step - loss: 0.0046 - binary_accuracy: 0.9995 - val_loss: 0.0051 - val_binary_accuracy: 0.9994\n",
      "Epoch 18/50\n",
      "227845/227845 [==============================] - 10s 44us/step - loss: 0.0050 - binary_accuracy: 0.9994 - val_loss: 0.0055 - val_binary_accuracy: 0.9994\n",
      "Epoch 19/50\n",
      "227845/227845 [==============================] - 10s 43us/step - loss: 0.0049 - binary_accuracy: 0.9993 - val_loss: 0.0042 - val_binary_accuracy: 0.9994\n",
      "Epoch 20/50\n",
      "227845/227845 [==============================] - 10s 44us/step - loss: 0.0042 - binary_accuracy: 0.9994 - val_loss: 0.0040 - val_binary_accuracy: 0.9994\n",
      "Epoch 21/50\n",
      "227845/227845 [==============================] - 10s 44us/step - loss: 0.0036 - binary_accuracy: 0.9994 - val_loss: 0.0033 - val_binary_accuracy: 0.9994\n",
      "Epoch 22/50\n",
      "227845/227845 [==============================] - 10s 43us/step - loss: 0.0034 - binary_accuracy: 0.9994 - val_loss: 0.0042 - val_binary_accuracy: 0.9994\n",
      "Epoch 23/50\n",
      "227845/227845 [==============================] - 10s 43us/step - loss: 0.0028 - binary_accuracy: 0.9995 - val_loss: 0.0039 - val_binary_accuracy: 0.9995\n",
      "Epoch 24/50\n",
      "227845/227845 [==============================] - 10s 43us/step - loss: 0.0026 - binary_accuracy: 0.9994 - val_loss: 0.0031 - val_binary_accuracy: 0.9995\n",
      "Epoch 25/50\n",
      "227845/227845 [==============================] - 10s 44us/step - loss: 0.0024 - binary_accuracy: 0.9995 - val_loss: 0.0031 - val_binary_accuracy: 0.9995\n",
      "Epoch 26/50\n",
      "227845/227845 [==============================] - 10s 43us/step - loss: 0.0028 - binary_accuracy: 0.9994 - val_loss: 0.0036 - val_binary_accuracy: 0.9995\n",
      "Epoch 00026: early stopping\n"
     ]
    }
   ],
   "source": [
    "# Fit the model\n",
    "\n",
    "history = model_s.fit(\n",
    "    X_train, y_train,\n",
    "    validation_data=(X_test, y_test),\n",
    "    batch_size=1024,\n",
    "    epochs=50,\n",
    "    callbacks=[early_stopping],\n",
    ")"
   ]
  },
  {
   "cell_type": "code",
   "execution_count": 22,
   "metadata": {
    "execution": {
     "iopub.execute_input": "2022-04-01T12:48:39.022520Z",
     "iopub.status.busy": "2022-04-01T12:48:39.022208Z",
     "iopub.status.idle": "2022-04-01T12:48:39.352513Z",
     "shell.execute_reply": "2022-04-01T12:48:39.351214Z",
     "shell.execute_reply.started": "2022-04-01T12:48:39.022482Z"
    }
   },
   "outputs": [
    {
     "data": {
      "text/plain": [
       "<matplotlib.axes._subplots.AxesSubplot at 0x7ff308109438>"
      ]
     },
     "execution_count": 22,
     "metadata": {},
     "output_type": "execute_result"
    },
    {
     "data": {
      "image/png": "[encoded data removed]",
      "text/plain": [
       "<matplotlib.figure.Figure at 0x7ff308102438>"
      ]
     },
     "metadata": {},
     "output_type": "display_data"
    },
    {
     "data": {
      "image/png": "[encoded data removed]",
      "text/plain": [
       "<matplotlib.figure.Figure at 0x7ff30a43e9b0>"
      ]
     },
     "metadata": {},
     "output_type": "display_data"
    }
   ],
   "source": [
    "# Create dataframe of training history\n",
    "\n",
    "history_df = pd.DataFrame(history.history)\n",
    "history_df.loc[:, ['loss', 'val_loss']].plot(title=\"Cross-entropy\")\n",
    "history_df.loc[:, ['binary_accuracy', 'val_binary_accuracy']].plot(title=\"Accuracy\")"
   ]
  },
  {
   "cell_type": "code",
   "execution_count": 23,
   "metadata": {},
   "outputs": [],
   "source": [
    "# Make predictions\n",
    "pred_s = model_s.predict(X_test)"
   ]
  },
  {
   "cell_type": "markdown",
   "metadata": {},
   "source": [
    "# Conclusion #\n",
    "\n",
    "# References #"
   ]
  },
  {
   "cell_type": "code",
   "execution_count": 24,
   "metadata": {},
   "outputs": [],
   "source": []
  }
 ],
 "metadata": {
  "kernelspec": {
   "display_name": "Python 3",
   "language": "python",
   "name": "python3"
  },
  "language_info": {
   "codemirror_mode": {
    "name": "ipython",
    "version": 3
   },
   "file_extension": ".py",
   "mimetype": "text/x-python",
   "name": "python",
   "nbconvert_exporter": "python",
   "pygments_lexer": "ipython3",
   "version": "3.6.4"
  }
 },
 "nbformat": 4,
 "nbformat_minor": 4
}
